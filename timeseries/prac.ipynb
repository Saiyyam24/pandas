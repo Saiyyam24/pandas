{
 "cells": [
  {
   "cell_type": "code",
   "execution_count": 13,
   "id": "cb564550",
   "metadata": {},
   "outputs": [
    {
     "data": {
      "text/html": [
       "<div>\n",
       "<style scoped>\n",
       "    .dataframe tbody tr th:only-of-type {\n",
       "        vertical-align: middle;\n",
       "    }\n",
       "\n",
       "    .dataframe tbody tr th {\n",
       "        vertical-align: top;\n",
       "    }\n",
       "\n",
       "    .dataframe thead th {\n",
       "        text-align: right;\n",
       "    }\n",
       "</style>\n",
       "<table border=\"1\" class=\"dataframe\">\n",
       "  <thead>\n",
       "    <tr style=\"text-align: right;\">\n",
       "      <th></th>\n",
       "      <th>Open</th>\n",
       "      <th>High</th>\n",
       "      <th>Low</th>\n",
       "      <th>Close</th>\n",
       "      <th>Volume</th>\n",
       "    </tr>\n",
       "    <tr>\n",
       "      <th>Date</th>\n",
       "      <th></th>\n",
       "      <th></th>\n",
       "      <th></th>\n",
       "      <th></th>\n",
       "      <th></th>\n",
       "    </tr>\n",
       "  </thead>\n",
       "  <tbody>\n",
       "    <tr>\n",
       "      <th>03/01/2023 16:00:00</th>\n",
       "      <td>89.83</td>\n",
       "      <td>91.55</td>\n",
       "      <td>89.02</td>\n",
       "      <td>89.70</td>\n",
       "      <td>20738457</td>\n",
       "    </tr>\n",
       "    <tr>\n",
       "      <th>04/01/2023 16:00:00</th>\n",
       "      <td>91.01</td>\n",
       "      <td>91.24</td>\n",
       "      <td>87.80</td>\n",
       "      <td>88.71</td>\n",
       "      <td>27046483</td>\n",
       "    </tr>\n",
       "    <tr>\n",
       "      <th>05/01/2023 16:00:00</th>\n",
       "      <td>88.07</td>\n",
       "      <td>88.21</td>\n",
       "      <td>86.56</td>\n",
       "      <td>86.77</td>\n",
       "      <td>23136084</td>\n",
       "    </tr>\n",
       "    <tr>\n",
       "      <th>06/01/2023 16:00:00</th>\n",
       "      <td>87.36</td>\n",
       "      <td>88.47</td>\n",
       "      <td>85.57</td>\n",
       "      <td>88.16</td>\n",
       "      <td>26612628</td>\n",
       "    </tr>\n",
       "    <tr>\n",
       "      <th>09/01/2023 16:00:00</th>\n",
       "      <td>89.20</td>\n",
       "      <td>90.83</td>\n",
       "      <td>88.58</td>\n",
       "      <td>88.80</td>\n",
       "      <td>22996681</td>\n",
       "    </tr>\n",
       "    <tr>\n",
       "      <th>...</th>\n",
       "      <td>...</td>\n",
       "      <td>...</td>\n",
       "      <td>...</td>\n",
       "      <td>...</td>\n",
       "      <td>...</td>\n",
       "    </tr>\n",
       "    <tr>\n",
       "      <th>25/05/2023 16:00:00</th>\n",
       "      <td>125.21</td>\n",
       "      <td>125.98</td>\n",
       "      <td>122.90</td>\n",
       "      <td>124.35</td>\n",
       "      <td>33812730</td>\n",
       "    </tr>\n",
       "    <tr>\n",
       "      <th>26/05/2023 16:00:00</th>\n",
       "      <td>124.07</td>\n",
       "      <td>126.00</td>\n",
       "      <td>123.29</td>\n",
       "      <td>125.43</td>\n",
       "      <td>25169036</td>\n",
       "    </tr>\n",
       "    <tr>\n",
       "      <th>30/05/2023 16:00:00</th>\n",
       "      <td>126.29</td>\n",
       "      <td>126.38</td>\n",
       "      <td>122.89</td>\n",
       "      <td>124.64</td>\n",
       "      <td>27230726</td>\n",
       "    </tr>\n",
       "    <tr>\n",
       "      <th>31/05/2023 16:00:00</th>\n",
       "      <td>123.70</td>\n",
       "      <td>124.90</td>\n",
       "      <td>123.10</td>\n",
       "      <td>123.37</td>\n",
       "      <td>41548759</td>\n",
       "    </tr>\n",
       "    <tr>\n",
       "      <th>01/06/2023 16:00:00</th>\n",
       "      <td>123.50</td>\n",
       "      <td>125.04</td>\n",
       "      <td>123.30</td>\n",
       "      <td>124.37</td>\n",
       "      <td>25017674</td>\n",
       "    </tr>\n",
       "  </tbody>\n",
       "</table>\n",
       "<p>104 rows × 5 columns</p>\n",
       "</div>"
      ],
      "text/plain": [
       "                       Open    High     Low   Close    Volume\n",
       "Date                                                         \n",
       "03/01/2023 16:00:00   89.83   91.55   89.02   89.70  20738457\n",
       "04/01/2023 16:00:00   91.01   91.24   87.80   88.71  27046483\n",
       "05/01/2023 16:00:00   88.07   88.21   86.56   86.77  23136084\n",
       "06/01/2023 16:00:00   87.36   88.47   85.57   88.16  26612628\n",
       "09/01/2023 16:00:00   89.20   90.83   88.58   88.80  22996681\n",
       "...                     ...     ...     ...     ...       ...\n",
       "25/05/2023 16:00:00  125.21  125.98  122.90  124.35  33812730\n",
       "26/05/2023 16:00:00  124.07  126.00  123.29  125.43  25169036\n",
       "30/05/2023 16:00:00  126.29  126.38  122.89  124.64  27230726\n",
       "31/05/2023 16:00:00  123.70  124.90  123.10  123.37  41548759\n",
       "01/06/2023 16:00:00  123.50  125.04  123.30  124.37  25017674\n",
       "\n",
       "[104 rows x 5 columns]"
      ]
     },
     "execution_count": 13,
     "metadata": {},
     "output_type": "execute_result"
    }
   ],
   "source": [
    "import pandas as pd\n",
    "df = pd.read_csv(r\"D:\\python\\pandas\\timeseries\\google finance data - Sheet2.csv\",parse_dates=[\"Date\"],index_col=\"Date\")\n",
    "df"
   ]
  },
  {
   "cell_type": "code",
   "execution_count": null,
   "id": "d568de9f",
   "metadata": {},
   "outputs": [
    {
     "name": "stdout",
     "output_type": "stream",
     "text": [
      "Index(['Open', 'High', 'Low', 'Close', 'Volume'], dtype='object')\n"
     ]
    }
   ],
   "source": [
    "print(df.columns)# type(df.Date[0])\n"
   ]
  },
  {
   "cell_type": "code",
   "execution_count": 17,
   "id": "a772c0e2",
   "metadata": {},
   "outputs": [
    {
     "data": {
      "text/plain": [
       "'03/01/2023 16:00:00'"
      ]
     },
     "execution_count": 17,
     "metadata": {},
     "output_type": "execute_result"
    }
   ],
   "source": [
    "df.index[0]"
   ]
  },
  {
   "cell_type": "code",
   "execution_count": 18,
   "id": "0d35520a",
   "metadata": {},
   "outputs": [
    {
     "data": {
      "text/plain": [
       "str"
      ]
     },
     "execution_count": 18,
     "metadata": {},
     "output_type": "execute_result"
    }
   ],
   "source": [
    "type(df.index[0])"
   ]
  },
  {
   "cell_type": "code",
   "execution_count": 19,
   "id": "3bfb6cf7",
   "metadata": {},
   "outputs": [],
   "source": [
    "df.index = pd.to_datetime(df.index, format=\"%d/%m/%Y %H:%M:%S\")\n"
   ]
  },
  {
   "cell_type": "code",
   "execution_count": 20,
   "id": "88ff3bfa",
   "metadata": {},
   "outputs": [
    {
     "data": {
      "text/plain": [
       "pandas._libs.tslibs.timestamps.Timestamp"
      ]
     },
     "execution_count": 20,
     "metadata": {},
     "output_type": "execute_result"
    }
   ],
   "source": [
    "type(df.index[0])"
   ]
  },
  {
   "cell_type": "code",
   "execution_count": 21,
   "id": "feae6d64",
   "metadata": {},
   "outputs": [
    {
     "name": "stdout",
     "output_type": "stream",
     "text": [
      "Index(['Open', 'High', 'Low', 'Close', 'Volume'], dtype='object')\n"
     ]
    }
   ],
   "source": [
    "print(df.columns)\n"
   ]
  },
  {
   "cell_type": "code",
   "execution_count": null,
   "id": "88548b14",
   "metadata": {},
   "outputs": [
    {
     "data": {
      "text/plain": [
       "DatetimeIndex(['2023-01-03 16:00:00', '2023-01-04 16:00:00',\n",
       "               '2023-01-05 16:00:00', '2023-01-06 16:00:00',\n",
       "               '2023-01-09 16:00:00', '2023-01-10 16:00:00',\n",
       "               '2023-01-11 16:00:00', '2023-01-12 16:00:00',\n",
       "               '2023-01-13 16:00:00', '2023-01-17 16:00:00',\n",
       "               ...\n",
       "               '2023-05-18 16:00:00', '2023-05-19 16:00:00',\n",
       "               '2023-05-22 16:00:00', '2023-05-23 16:00:00',\n",
       "               '2023-05-24 16:00:00', '2023-05-25 16:00:00',\n",
       "               '2023-05-26 16:00:00', '2023-05-30 16:00:00',\n",
       "               '2023-05-31 16:00:00', '2023-06-01 16:00:00'],\n",
       "              dtype='datetime64[ns]', name='Date', length=104, freq=None)"
      ]
     },
     "execution_count": 25,
     "metadata": {},
     "output_type": "execute_result"
    }
   ],
   "source": [
    "# it shows all the index present in data column\n",
    "df.index"
   ]
  },
  {
   "cell_type": "code",
   "execution_count": null,
   "id": "51573070",
   "metadata": {},
   "outputs": [
    {
     "data": {
      "text/html": [
       "<div>\n",
       "<style scoped>\n",
       "    .dataframe tbody tr th:only-of-type {\n",
       "        vertical-align: middle;\n",
       "    }\n",
       "\n",
       "    .dataframe tbody tr th {\n",
       "        vertical-align: top;\n",
       "    }\n",
       "\n",
       "    .dataframe thead th {\n",
       "        text-align: right;\n",
       "    }\n",
       "</style>\n",
       "<table border=\"1\" class=\"dataframe\">\n",
       "  <thead>\n",
       "    <tr style=\"text-align: right;\">\n",
       "      <th></th>\n",
       "      <th>Open</th>\n",
       "      <th>High</th>\n",
       "      <th>Low</th>\n",
       "      <th>Close</th>\n",
       "      <th>Volume</th>\n",
       "    </tr>\n",
       "    <tr>\n",
       "      <th>Date</th>\n",
       "      <th></th>\n",
       "      <th></th>\n",
       "      <th></th>\n",
       "      <th></th>\n",
       "      <th></th>\n",
       "    </tr>\n",
       "  </thead>\n",
       "  <tbody>\n",
       "    <tr>\n",
       "      <th>2023-01-03 16:00:00</th>\n",
       "      <td>89.83</td>\n",
       "      <td>91.55</td>\n",
       "      <td>89.02</td>\n",
       "      <td>89.70</td>\n",
       "      <td>20738457</td>\n",
       "    </tr>\n",
       "    <tr>\n",
       "      <th>2023-01-04 16:00:00</th>\n",
       "      <td>91.01</td>\n",
       "      <td>91.24</td>\n",
       "      <td>87.80</td>\n",
       "      <td>88.71</td>\n",
       "      <td>27046483</td>\n",
       "    </tr>\n",
       "    <tr>\n",
       "      <th>2023-01-05 16:00:00</th>\n",
       "      <td>88.07</td>\n",
       "      <td>88.21</td>\n",
       "      <td>86.56</td>\n",
       "      <td>86.77</td>\n",
       "      <td>23136084</td>\n",
       "    </tr>\n",
       "    <tr>\n",
       "      <th>2023-01-06 16:00:00</th>\n",
       "      <td>87.36</td>\n",
       "      <td>88.47</td>\n",
       "      <td>85.57</td>\n",
       "      <td>88.16</td>\n",
       "      <td>26612628</td>\n",
       "    </tr>\n",
       "    <tr>\n",
       "      <th>2023-01-09 16:00:00</th>\n",
       "      <td>89.20</td>\n",
       "      <td>90.83</td>\n",
       "      <td>88.58</td>\n",
       "      <td>88.80</td>\n",
       "      <td>22996681</td>\n",
       "    </tr>\n",
       "    <tr>\n",
       "      <th>2023-01-10 16:00:00</th>\n",
       "      <td>86.72</td>\n",
       "      <td>89.48</td>\n",
       "      <td>86.70</td>\n",
       "      <td>89.24</td>\n",
       "      <td>22855590</td>\n",
       "    </tr>\n",
       "    <tr>\n",
       "      <th>2023-01-11 16:00:00</th>\n",
       "      <td>90.06</td>\n",
       "      <td>92.45</td>\n",
       "      <td>89.74</td>\n",
       "      <td>92.26</td>\n",
       "      <td>25998844</td>\n",
       "    </tr>\n",
       "    <tr>\n",
       "      <th>2023-01-12 16:00:00</th>\n",
       "      <td>92.40</td>\n",
       "      <td>92.62</td>\n",
       "      <td>90.57</td>\n",
       "      <td>91.91</td>\n",
       "      <td>22754216</td>\n",
       "    </tr>\n",
       "    <tr>\n",
       "      <th>2023-01-13 16:00:00</th>\n",
       "      <td>91.53</td>\n",
       "      <td>92.98</td>\n",
       "      <td>90.93</td>\n",
       "      <td>92.80</td>\n",
       "      <td>18630709</td>\n",
       "    </tr>\n",
       "    <tr>\n",
       "      <th>2023-01-17 16:00:00</th>\n",
       "      <td>92.78</td>\n",
       "      <td>92.97</td>\n",
       "      <td>90.84</td>\n",
       "      <td>92.16</td>\n",
       "      <td>22935823</td>\n",
       "    </tr>\n",
       "    <tr>\n",
       "      <th>2023-01-18 16:00:00</th>\n",
       "      <td>92.94</td>\n",
       "      <td>93.59</td>\n",
       "      <td>91.40</td>\n",
       "      <td>91.78</td>\n",
       "      <td>19641622</td>\n",
       "    </tr>\n",
       "    <tr>\n",
       "      <th>2023-01-19 16:00:00</th>\n",
       "      <td>91.39</td>\n",
       "      <td>94.40</td>\n",
       "      <td>91.38</td>\n",
       "      <td>93.91</td>\n",
       "      <td>28707653</td>\n",
       "    </tr>\n",
       "    <tr>\n",
       "      <th>2023-01-20 16:00:00</th>\n",
       "      <td>95.95</td>\n",
       "      <td>99.42</td>\n",
       "      <td>95.91</td>\n",
       "      <td>99.28</td>\n",
       "      <td>53704763</td>\n",
       "    </tr>\n",
       "    <tr>\n",
       "      <th>2023-01-23 16:00:00</th>\n",
       "      <td>99.13</td>\n",
       "      <td>101.40</td>\n",
       "      <td>98.75</td>\n",
       "      <td>101.21</td>\n",
       "      <td>31791782</td>\n",
       "    </tr>\n",
       "    <tr>\n",
       "      <th>2023-01-24 16:00:00</th>\n",
       "      <td>99.55</td>\n",
       "      <td>101.09</td>\n",
       "      <td>98.70</td>\n",
       "      <td>99.21</td>\n",
       "      <td>27391372</td>\n",
       "    </tr>\n",
       "    <tr>\n",
       "      <th>2023-01-25 16:00:00</th>\n",
       "      <td>97.20</td>\n",
       "      <td>97.72</td>\n",
       "      <td>95.26</td>\n",
       "      <td>96.73</td>\n",
       "      <td>31000850</td>\n",
       "    </tr>\n",
       "    <tr>\n",
       "      <th>2023-01-26 16:00:00</th>\n",
       "      <td>98.28</td>\n",
       "      <td>99.21</td>\n",
       "      <td>96.82</td>\n",
       "      <td>99.16</td>\n",
       "      <td>24542060</td>\n",
       "    </tr>\n",
       "    <tr>\n",
       "      <th>2023-01-27 16:00:00</th>\n",
       "      <td>99.05</td>\n",
       "      <td>101.58</td>\n",
       "      <td>98.97</td>\n",
       "      <td>100.71</td>\n",
       "      <td>29020354</td>\n",
       "    </tr>\n",
       "    <tr>\n",
       "      <th>2023-01-30 16:00:00</th>\n",
       "      <td>98.75</td>\n",
       "      <td>99.41</td>\n",
       "      <td>97.52</td>\n",
       "      <td>97.95</td>\n",
       "      <td>24365142</td>\n",
       "    </tr>\n",
       "    <tr>\n",
       "      <th>2023-01-31 16:00:00</th>\n",
       "      <td>97.86</td>\n",
       "      <td>99.91</td>\n",
       "      <td>97.79</td>\n",
       "      <td>99.87</td>\n",
       "      <td>22306778</td>\n",
       "    </tr>\n",
       "  </tbody>\n",
       "</table>\n",
       "</div>"
      ],
      "text/plain": [
       "                      Open    High    Low   Close    Volume\n",
       "Date                                                       \n",
       "2023-01-03 16:00:00  89.83   91.55  89.02   89.70  20738457\n",
       "2023-01-04 16:00:00  91.01   91.24  87.80   88.71  27046483\n",
       "2023-01-05 16:00:00  88.07   88.21  86.56   86.77  23136084\n",
       "2023-01-06 16:00:00  87.36   88.47  85.57   88.16  26612628\n",
       "2023-01-09 16:00:00  89.20   90.83  88.58   88.80  22996681\n",
       "2023-01-10 16:00:00  86.72   89.48  86.70   89.24  22855590\n",
       "2023-01-11 16:00:00  90.06   92.45  89.74   92.26  25998844\n",
       "2023-01-12 16:00:00  92.40   92.62  90.57   91.91  22754216\n",
       "2023-01-13 16:00:00  91.53   92.98  90.93   92.80  18630709\n",
       "2023-01-17 16:00:00  92.78   92.97  90.84   92.16  22935823\n",
       "2023-01-18 16:00:00  92.94   93.59  91.40   91.78  19641622\n",
       "2023-01-19 16:00:00  91.39   94.40  91.38   93.91  28707653\n",
       "2023-01-20 16:00:00  95.95   99.42  95.91   99.28  53704763\n",
       "2023-01-23 16:00:00  99.13  101.40  98.75  101.21  31791782\n",
       "2023-01-24 16:00:00  99.55  101.09  98.70   99.21  27391372\n",
       "2023-01-25 16:00:00  97.20   97.72  95.26   96.73  31000850\n",
       "2023-01-26 16:00:00  98.28   99.21  96.82   99.16  24542060\n",
       "2023-01-27 16:00:00  99.05  101.58  98.97  100.71  29020354\n",
       "2023-01-30 16:00:00  98.75   99.41  97.52   97.95  24365142\n",
       "2023-01-31 16:00:00  97.86   99.91  97.79   99.87  22306778"
      ]
     },
     "execution_count": 32,
     "metadata": {},
     "output_type": "execute_result"
    }
   ],
   "source": [
    "# this help in searching using indexing (.loc[]) can be used.\n",
    "df.loc['2023-01']"
   ]
  },
  {
   "cell_type": "code",
   "execution_count": null,
   "id": "76c005c3",
   "metadata": {},
   "outputs": [
    {
     "data": {
      "text/plain": [
       "Date\n",
       "2023-01-03 16:00:00     89.70\n",
       "2023-01-04 16:00:00     88.71\n",
       "2023-01-05 16:00:00     86.77\n",
       "2023-01-06 16:00:00     88.16\n",
       "2023-01-09 16:00:00     88.80\n",
       "2023-01-10 16:00:00     89.24\n",
       "2023-01-11 16:00:00     92.26\n",
       "2023-01-12 16:00:00     91.91\n",
       "2023-01-13 16:00:00     92.80\n",
       "2023-01-17 16:00:00     92.16\n",
       "2023-01-18 16:00:00     91.78\n",
       "2023-01-19 16:00:00     93.91\n",
       "2023-01-20 16:00:00     99.28\n",
       "2023-01-23 16:00:00    101.21\n",
       "2023-01-24 16:00:00     99.21\n",
       "2023-01-25 16:00:00     96.73\n",
       "2023-01-26 16:00:00     99.16\n",
       "2023-01-27 16:00:00    100.71\n",
       "2023-01-30 16:00:00     97.95\n",
       "2023-01-31 16:00:00     99.87\n",
       "Name: Close, dtype: float64"
      ]
     },
     "execution_count": 34,
     "metadata": {},
     "output_type": "execute_result"
    }
   ],
   "source": [
    "# It shows close price of each in jan month\n",
    "df.loc['2023-01'].Close"
   ]
  },
  {
   "cell_type": "markdown",
   "id": "777e3a19",
   "metadata": {},
   "source": []
  },
  {
   "cell_type": "code",
   "execution_count": 36,
   "id": "85e9ae18",
   "metadata": {},
   "outputs": [
    {
     "data": {
      "text/plain": [
       "np.float64(94.016)"
      ]
     },
     "execution_count": 36,
     "metadata": {},
     "output_type": "execute_result"
    }
   ],
   "source": [
    "# Now we take mean of this\n",
    "df.loc['2023-01'].Close.mean()"
   ]
  },
  {
   "cell_type": "markdown",
   "id": "44b39cbf",
   "metadata": {},
   "source": [
    "## Resample\n"
   ]
  },
  {
   "cell_type": "code",
   "execution_count": 40,
   "id": "4c7bc362",
   "metadata": {},
   "outputs": [
    {
     "name": "stderr",
     "output_type": "stream",
     "text": [
      "C:\\Users\\saiyyam agrawal\\AppData\\Local\\Temp\\ipykernel_18404\\2415930963.py:1: FutureWarning: 'Q' is deprecated and will be removed in a future version, please use 'QE' instead.\n",
      "  df.Close.resample('Q').mean()\n"
     ]
    },
    {
     "data": {
      "text/plain": [
       "Date\n",
       "2023-03-31     96.557097\n",
       "2023-06-30    112.223810\n",
       "Freq: QE-DEC, Name: Close, dtype: float64"
      ]
     },
     "execution_count": 40,
     "metadata": {},
     "output_type": "execute_result"
    }
   ],
   "source": [
    "\n",
    "df.Close.resample('Q').mean()"
   ]
  },
  {
   "cell_type": "code",
   "execution_count": 41,
   "id": "8fd4468c",
   "metadata": {},
   "outputs": [
    {
     "name": "stderr",
     "output_type": "stream",
     "text": [
      "C:\\Users\\saiyyam agrawal\\AppData\\Local\\Temp\\ipykernel_18404\\942972382.py:2: FutureWarning: 'Q' is deprecated and will be removed in a future version, please use 'QE' instead.\n",
      "  df.Close.resample('Q').mean().plot()\n"
     ]
    },
    {
     "data": {
      "text/plain": [
       "<Axes: xlabel='Date'>"
      ]
     },
     "execution_count": 41,
     "metadata": {},
     "output_type": "execute_result"
    },
    {
     "data": {
      "image/png": "[encoded data removed]",
      "text/plain": [
       "<Figure size 640x480 with 1 Axes>"
      ]
     },
     "metadata": {},
     "output_type": "display_data"
    }
   ],
   "source": [
    "%matplotlib inline\n",
    "df.Close.resample('Q').mean().plot()"
   ]
  },
  {
   "cell_type": "code",
   "execution_count": 44,
   "id": "0a7ff6ad",
   "metadata": {},
   "outputs": [
    {
     "data": {
      "text/plain": [
       "<Axes: xlabel='Date'>"
      ]
     },
     "execution_count": 44,
     "metadata": {},
     "output_type": "execute_result"
    },
    {
     "data": {
      "image/png": "[encoded data removed]",
      "text/plain": [
       "<Figure size 640x480 with 1 Axes>"
      ]
     },
     "metadata": {},
     "output_type": "display_data"
    }
   ],
   "source": [
    "%matplotlib inline\n",
    "df.Close.plot()"
   ]
  },
  {
   "cell_type": "markdown",
   "id": "5895ea03",
   "metadata": {},
   "source": [
    "### Date Range"
   ]
  },
  {
   "cell_type": "code",
   "execution_count": 3,
   "id": "0c92ead8",
   "metadata": {},
   "outputs": [
    {
     "data": {
      "text/html": [
       "<div>\n",
       "<style scoped>\n",
       "    .dataframe tbody tr th:only-of-type {\n",
       "        vertical-align: middle;\n",
       "    }\n",
       "\n",
       "    .dataframe tbody tr th {\n",
       "        vertical-align: top;\n",
       "    }\n",
       "\n",
       "    .dataframe thead th {\n",
       "        text-align: right;\n",
       "    }\n",
       "</style>\n",
       "<table border=\"1\" class=\"dataframe\">\n",
       "  <thead>\n",
       "    <tr style=\"text-align: right;\">\n",
       "      <th></th>\n",
       "      <th>Open</th>\n",
       "      <th>High</th>\n",
       "      <th>Low</th>\n",
       "      <th>Close</th>\n",
       "      <th>Volume</th>\n",
       "    </tr>\n",
       "  </thead>\n",
       "  <tbody>\n",
       "    <tr>\n",
       "      <th>0</th>\n",
       "      <td>89.83</td>\n",
       "      <td>91.55</td>\n",
       "      <td>89.02</td>\n",
       "      <td>89.70</td>\n",
       "      <td>20738457</td>\n",
       "    </tr>\n",
       "    <tr>\n",
       "      <th>1</th>\n",
       "      <td>91.01</td>\n",
       "      <td>91.24</td>\n",
       "      <td>87.80</td>\n",
       "      <td>88.71</td>\n",
       "      <td>27046483</td>\n",
       "    </tr>\n",
       "    <tr>\n",
       "      <th>2</th>\n",
       "      <td>88.07</td>\n",
       "      <td>88.21</td>\n",
       "      <td>86.56</td>\n",
       "      <td>86.77</td>\n",
       "      <td>23136084</td>\n",
       "    </tr>\n",
       "    <tr>\n",
       "      <th>3</th>\n",
       "      <td>87.36</td>\n",
       "      <td>88.47</td>\n",
       "      <td>85.57</td>\n",
       "      <td>88.16</td>\n",
       "      <td>26612628</td>\n",
       "    </tr>\n",
       "    <tr>\n",
       "      <th>4</th>\n",
       "      <td>89.20</td>\n",
       "      <td>90.83</td>\n",
       "      <td>88.58</td>\n",
       "      <td>88.80</td>\n",
       "      <td>22996681</td>\n",
       "    </tr>\n",
       "    <tr>\n",
       "      <th>...</th>\n",
       "      <td>...</td>\n",
       "      <td>...</td>\n",
       "      <td>...</td>\n",
       "      <td>...</td>\n",
       "      <td>...</td>\n",
       "    </tr>\n",
       "    <tr>\n",
       "      <th>99</th>\n",
       "      <td>125.21</td>\n",
       "      <td>125.98</td>\n",
       "      <td>122.90</td>\n",
       "      <td>124.35</td>\n",
       "      <td>33812730</td>\n",
       "    </tr>\n",
       "    <tr>\n",
       "      <th>100</th>\n",
       "      <td>124.07</td>\n",
       "      <td>126.00</td>\n",
       "      <td>123.29</td>\n",
       "      <td>125.43</td>\n",
       "      <td>25169036</td>\n",
       "    </tr>\n",
       "    <tr>\n",
       "      <th>101</th>\n",
       "      <td>126.29</td>\n",
       "      <td>126.38</td>\n",
       "      <td>122.89</td>\n",
       "      <td>124.64</td>\n",
       "      <td>27230726</td>\n",
       "    </tr>\n",
       "    <tr>\n",
       "      <th>102</th>\n",
       "      <td>123.70</td>\n",
       "      <td>124.90</td>\n",
       "      <td>123.10</td>\n",
       "      <td>123.37</td>\n",
       "      <td>41548759</td>\n",
       "    </tr>\n",
       "    <tr>\n",
       "      <th>103</th>\n",
       "      <td>123.50</td>\n",
       "      <td>125.04</td>\n",
       "      <td>123.30</td>\n",
       "      <td>124.37</td>\n",
       "      <td>25017674</td>\n",
       "    </tr>\n",
       "  </tbody>\n",
       "</table>\n",
       "<p>104 rows × 5 columns</p>\n",
       "</div>"
      ],
      "text/plain": [
       "       Open    High     Low   Close    Volume\n",
       "0     89.83   91.55   89.02   89.70  20738457\n",
       "1     91.01   91.24   87.80   88.71  27046483\n",
       "2     88.07   88.21   86.56   86.77  23136084\n",
       "3     87.36   88.47   85.57   88.16  26612628\n",
       "4     89.20   90.83   88.58   88.80  22996681\n",
       "..      ...     ...     ...     ...       ...\n",
       "99   125.21  125.98  122.90  124.35  33812730\n",
       "100  124.07  126.00  123.29  125.43  25169036\n",
       "101  126.29  126.38  122.89  124.64  27230726\n",
       "102  123.70  124.90  123.10  123.37  41548759\n",
       "103  123.50  125.04  123.30  124.37  25017674\n",
       "\n",
       "[104 rows x 5 columns]"
      ]
     },
     "execution_count": 3,
     "metadata": {},
     "output_type": "execute_result"
    }
   ],
   "source": [
    "import pandas as pd\n",
    "df = pd.read_csv(r\"D:\\python\\pandas\\timeseries\\google finance data2 - Sheet3.csv\")\n",
    "df"
   ]
  },
  {
   "cell_type": "code",
   "execution_count": 27,
   "id": "8e4eabc7",
   "metadata": {},
   "outputs": [
    {
     "data": {
      "text/plain": [
       "DatetimeIndex(['2017-07-03', '2017-07-04', '2017-07-05', '2017-07-06',\n",
       "               '2017-07-07', '2017-07-10', '2017-07-11', '2017-07-12',\n",
       "               '2017-07-13', '2017-07-14',\n",
       "               ...\n",
       "               '2017-11-10', '2017-11-13', '2017-11-14', '2017-11-15',\n",
       "               '2017-11-16', '2017-11-17', '2017-11-20', '2017-11-21',\n",
       "               '2017-11-22', '2017-11-23'],\n",
       "              dtype='datetime64[ns]', length=104, freq='B')"
      ]
     },
     "execution_count": 27,
     "metadata": {},
     "output_type": "execute_result"
    }
   ],
   "source": [
    "# periods help in finding the value here date fill till length of df or you know the perid\n",
    "rng = pd.date_range(start=\"7/1/2017\",periods=len(df),freq='B')\n",
    "rng"
   ]
  },
  {
   "cell_type": "code",
   "execution_count": 14,
   "id": "f0c590df",
   "metadata": {},
   "outputs": [],
   "source": [
    "df.set_index(rng,inplace=True)"
   ]
  },
  {
   "cell_type": "code",
   "execution_count": 24,
   "id": "593c5668",
   "metadata": {},
   "outputs": [
    {
     "data": {
      "text/html": [
       "<div>\n",
       "<style scoped>\n",
       "    .dataframe tbody tr th:only-of-type {\n",
       "        vertical-align: middle;\n",
       "    }\n",
       "\n",
       "    .dataframe tbody tr th {\n",
       "        vertical-align: top;\n",
       "    }\n",
       "\n",
       "    .dataframe thead th {\n",
       "        text-align: right;\n",
       "    }\n",
       "</style>\n",
       "<table border=\"1\" class=\"dataframe\">\n",
       "  <thead>\n",
       "    <tr style=\"text-align: right;\">\n",
       "      <th></th>\n",
       "      <th>Open</th>\n",
       "      <th>High</th>\n",
       "      <th>Low</th>\n",
       "      <th>Close</th>\n",
       "      <th>Volume</th>\n",
       "    </tr>\n",
       "  </thead>\n",
       "  <tbody>\n",
       "    <tr>\n",
       "      <th>2017-07-03</th>\n",
       "      <td>89.83</td>\n",
       "      <td>91.55</td>\n",
       "      <td>89.02</td>\n",
       "      <td>89.70</td>\n",
       "      <td>20738457</td>\n",
       "    </tr>\n",
       "    <tr>\n",
       "      <th>2017-07-04</th>\n",
       "      <td>91.01</td>\n",
       "      <td>91.24</td>\n",
       "      <td>87.80</td>\n",
       "      <td>88.71</td>\n",
       "      <td>27046483</td>\n",
       "    </tr>\n",
       "    <tr>\n",
       "      <th>2017-07-05</th>\n",
       "      <td>88.07</td>\n",
       "      <td>88.21</td>\n",
       "      <td>86.56</td>\n",
       "      <td>86.77</td>\n",
       "      <td>23136084</td>\n",
       "    </tr>\n",
       "    <tr>\n",
       "      <th>2017-07-06</th>\n",
       "      <td>87.36</td>\n",
       "      <td>88.47</td>\n",
       "      <td>85.57</td>\n",
       "      <td>88.16</td>\n",
       "      <td>26612628</td>\n",
       "    </tr>\n",
       "    <tr>\n",
       "      <th>2017-07-07</th>\n",
       "      <td>89.20</td>\n",
       "      <td>90.83</td>\n",
       "      <td>88.58</td>\n",
       "      <td>88.80</td>\n",
       "      <td>22996681</td>\n",
       "    </tr>\n",
       "    <tr>\n",
       "      <th>2017-07-10</th>\n",
       "      <td>86.72</td>\n",
       "      <td>89.48</td>\n",
       "      <td>86.70</td>\n",
       "      <td>89.24</td>\n",
       "      <td>22855590</td>\n",
       "    </tr>\n",
       "    <tr>\n",
       "      <th>2017-07-11</th>\n",
       "      <td>90.06</td>\n",
       "      <td>92.45</td>\n",
       "      <td>89.74</td>\n",
       "      <td>92.26</td>\n",
       "      <td>25998844</td>\n",
       "    </tr>\n",
       "    <tr>\n",
       "      <th>2017-07-12</th>\n",
       "      <td>92.40</td>\n",
       "      <td>92.62</td>\n",
       "      <td>90.57</td>\n",
       "      <td>91.91</td>\n",
       "      <td>22754216</td>\n",
       "    </tr>\n",
       "    <tr>\n",
       "      <th>2017-07-13</th>\n",
       "      <td>91.53</td>\n",
       "      <td>92.98</td>\n",
       "      <td>90.93</td>\n",
       "      <td>92.80</td>\n",
       "      <td>18630709</td>\n",
       "    </tr>\n",
       "    <tr>\n",
       "      <th>2017-07-14</th>\n",
       "      <td>92.78</td>\n",
       "      <td>92.97</td>\n",
       "      <td>90.84</td>\n",
       "      <td>92.16</td>\n",
       "      <td>22935823</td>\n",
       "    </tr>\n",
       "  </tbody>\n",
       "</table>\n",
       "</div>"
      ],
      "text/plain": [
       "             Open   High    Low  Close    Volume\n",
       "2017-07-03  89.83  91.55  89.02  89.70  20738457\n",
       "2017-07-04  91.01  91.24  87.80  88.71  27046483\n",
       "2017-07-05  88.07  88.21  86.56  86.77  23136084\n",
       "2017-07-06  87.36  88.47  85.57  88.16  26612628\n",
       "2017-07-07  89.20  90.83  88.58  88.80  22996681\n",
       "2017-07-10  86.72  89.48  86.70  89.24  22855590\n",
       "2017-07-11  90.06  92.45  89.74  92.26  25998844\n",
       "2017-07-12  92.40  92.62  90.57  91.91  22754216\n",
       "2017-07-13  91.53  92.98  90.93  92.80  18630709\n",
       "2017-07-14  92.78  92.97  90.84  92.16  22935823"
      ]
     },
     "execution_count": 24,
     "metadata": {},
     "output_type": "execute_result"
    }
   ],
   "source": [
    "df.head(10)"
   ]
  },
  {
   "cell_type": "code",
   "execution_count": 21,
   "id": "1aaea418",
   "metadata": {},
   "outputs": [
    {
     "data": {
      "text/plain": [
       "np.float64(94.016)"
      ]
     },
     "execution_count": 21,
     "metadata": {},
     "output_type": "execute_result"
    }
   ],
   "source": [
    "df.loc[\"2017-07-03\":\"2017-07-30\"].Close.mean()"
   ]
  },
  {
   "cell_type": "code",
   "execution_count": 25,
   "id": "8cad15c1",
   "metadata": {},
   "outputs": [
    {
     "data": {
      "text/html": [
       "<div>\n",
       "<style scoped>\n",
       "    .dataframe tbody tr th:only-of-type {\n",
       "        vertical-align: middle;\n",
       "    }\n",
       "\n",
       "    .dataframe tbody tr th {\n",
       "        vertical-align: top;\n",
       "    }\n",
       "\n",
       "    .dataframe thead th {\n",
       "        text-align: right;\n",
       "    }\n",
       "</style>\n",
       "<table border=\"1\" class=\"dataframe\">\n",
       "  <thead>\n",
       "    <tr style=\"text-align: right;\">\n",
       "      <th></th>\n",
       "      <th>Open</th>\n",
       "      <th>High</th>\n",
       "      <th>Low</th>\n",
       "      <th>Close</th>\n",
       "      <th>Volume</th>\n",
       "    </tr>\n",
       "  </thead>\n",
       "  <tbody>\n",
       "    <tr>\n",
       "      <th>2017-07-03</th>\n",
       "      <td>89.83</td>\n",
       "      <td>91.55</td>\n",
       "      <td>89.02</td>\n",
       "      <td>89.70</td>\n",
       "      <td>20738457</td>\n",
       "    </tr>\n",
       "    <tr>\n",
       "      <th>2017-07-04</th>\n",
       "      <td>91.01</td>\n",
       "      <td>91.24</td>\n",
       "      <td>87.80</td>\n",
       "      <td>88.71</td>\n",
       "      <td>27046483</td>\n",
       "    </tr>\n",
       "    <tr>\n",
       "      <th>2017-07-05</th>\n",
       "      <td>88.07</td>\n",
       "      <td>88.21</td>\n",
       "      <td>86.56</td>\n",
       "      <td>86.77</td>\n",
       "      <td>23136084</td>\n",
       "    </tr>\n",
       "    <tr>\n",
       "      <th>2017-07-06</th>\n",
       "      <td>87.36</td>\n",
       "      <td>88.47</td>\n",
       "      <td>85.57</td>\n",
       "      <td>88.16</td>\n",
       "      <td>26612628</td>\n",
       "    </tr>\n",
       "    <tr>\n",
       "      <th>2017-07-07</th>\n",
       "      <td>89.20</td>\n",
       "      <td>90.83</td>\n",
       "      <td>88.58</td>\n",
       "      <td>88.80</td>\n",
       "      <td>22996681</td>\n",
       "    </tr>\n",
       "    <tr>\n",
       "      <th>2017-07-08</th>\n",
       "      <td>89.20</td>\n",
       "      <td>90.83</td>\n",
       "      <td>88.58</td>\n",
       "      <td>88.80</td>\n",
       "      <td>22996681</td>\n",
       "    </tr>\n",
       "    <tr>\n",
       "      <th>2017-07-09</th>\n",
       "      <td>89.20</td>\n",
       "      <td>90.83</td>\n",
       "      <td>88.58</td>\n",
       "      <td>88.80</td>\n",
       "      <td>22996681</td>\n",
       "    </tr>\n",
       "    <tr>\n",
       "      <th>2017-07-10</th>\n",
       "      <td>86.72</td>\n",
       "      <td>89.48</td>\n",
       "      <td>86.70</td>\n",
       "      <td>89.24</td>\n",
       "      <td>22855590</td>\n",
       "    </tr>\n",
       "    <tr>\n",
       "      <th>2017-07-11</th>\n",
       "      <td>90.06</td>\n",
       "      <td>92.45</td>\n",
       "      <td>89.74</td>\n",
       "      <td>92.26</td>\n",
       "      <td>25998844</td>\n",
       "    </tr>\n",
       "    <tr>\n",
       "      <th>2017-07-12</th>\n",
       "      <td>92.40</td>\n",
       "      <td>92.62</td>\n",
       "      <td>90.57</td>\n",
       "      <td>91.91</td>\n",
       "      <td>22754216</td>\n",
       "    </tr>\n",
       "  </tbody>\n",
       "</table>\n",
       "</div>"
      ],
      "text/plain": [
       "             Open   High    Low  Close    Volume\n",
       "2017-07-03  89.83  91.55  89.02  89.70  20738457\n",
       "2017-07-04  91.01  91.24  87.80  88.71  27046483\n",
       "2017-07-05  88.07  88.21  86.56  86.77  23136084\n",
       "2017-07-06  87.36  88.47  85.57  88.16  26612628\n",
       "2017-07-07  89.20  90.83  88.58  88.80  22996681\n",
       "2017-07-08  89.20  90.83  88.58  88.80  22996681\n",
       "2017-07-09  89.20  90.83  88.58  88.80  22996681\n",
       "2017-07-10  86.72  89.48  86.70  89.24  22855590\n",
       "2017-07-11  90.06  92.45  89.74  92.26  25998844\n",
       "2017-07-12  92.40  92.62  90.57  91.91  22754216"
      ]
     },
     "execution_count": 25,
     "metadata": {},
     "output_type": "execute_result"
    }
   ],
   "source": [
    "pf = df.asfreq('D',method='pad')\n",
    "pf.head(10)"
   ]
  },
  {
   "cell_type": "code",
   "execution_count": 26,
   "id": "dd1be5d1",
   "metadata": {},
   "outputs": [
    {
     "data": {
      "text/plain": [
       "<Axes: >"
      ]
     },
     "execution_count": 26,
     "metadata": {},
     "output_type": "execute_result"
    },
    {
     "data": {
      "image/png": "[encoded data removed]",
      "text/plain": [
       "<Figure size 640x480 with 1 Axes>"
      ]
     },
     "metadata": {},
     "output_type": "display_data"
    }
   ],
   "source": [
    "pf.Close.plot()"
   ]
  },
  {
   "cell_type": "code",
   "execution_count": 28,
   "id": "e7f214bb",
   "metadata": {},
   "outputs": [
    {
     "data": {
      "text/plain": [
       "104"
      ]
     },
     "execution_count": 28,
     "metadata": {},
     "output_type": "execute_result"
    }
   ],
   "source": [
    "len(df)"
   ]
  },
  {
   "cell_type": "code",
   "execution_count": null,
   "id": "bcced47f",
   "metadata": {},
   "outputs": [],
   "source": []
  }
 ],
 "metadata": {
  "kernelspec": {
   "display_name": "myenv",
   "language": "python",
   "name": "python3"
  },
  "language_info": {
   "codemirror_mode": {
    "name": "ipython",
    "version": 3
   },
   "file_extension": ".py",
   "mimetype": "text/x-python",
   "name": "python",
   "nbconvert_exporter": "python",
   "pygments_lexer": "ipython3",
   "version": "3.12.5"
  }
 },
 "nbformat": 4,
 "nbformat_minor": 5
}
