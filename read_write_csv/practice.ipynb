{
 "cells": [
  {
   "cell_type": "code",
   "execution_count": 1,
   "metadata": {},
   "outputs": [],
   "source": [
    "import pandas as pd"
   ]
  },
  {
   "cell_type": "code",
   "execution_count": null,
   "metadata": {},
   "outputs": [],
   "source": [
    "weather_data = pd.DataFrame({\n",
    "    'date': ['27/03/2023','28/03/2023','29/03/2023'],\n",
    "    'temprature' :[24,54,52],\n",
    "    'event':['Sunny','rainy','hot']\n",
    "})\n",
    "stock_data = pd.DataFrame({\n",
    "    'ticker' : ['Googl','Wmt','Fms'],\n",
    "    'price' :[443,33,21]\n",
    "})\n"
   ]
  },
  {
   "cell_type": "code",
   "execution_count": 6,
   "metadata": {},
   "outputs": [],
   "source": [
    "with pd.ExcelWriter(\"mergedata.xlsx\") as writer:\n",
    "    weather_data.to_excel(writer,sheet_name = \"weather\")\n",
    "    stock_data.to_excel(writer,sheet_name=\"stck\")"
   ]
  },
  {
   "cell_type": "code",
   "execution_count": null,
   "metadata": {},
   "outputs": [],
   "source": []
  }
 ],
 "metadata": {
  "kernelspec": {
   "display_name": "myenv",
   "language": "python",
   "name": "python3"
  },
  "language_info": {
   "codemirror_mode": {
    "name": "ipython",
    "version": 3
   },
   "file_extension": ".py",
   "mimetype": "text/x-python",
   "name": "python",
   "nbconvert_exporter": "python",
   "pygments_lexer": "ipython3",
   "version": "3.12.5"
  }
 },
 "nbformat": 4,
 "nbformat_minor": 2
}
